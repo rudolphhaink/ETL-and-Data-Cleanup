{
 "cells": [
  {
   "cell_type": "markdown",
   "id": "15585e74-1763-498b-9f55-decc51559dad",
   "metadata": {},
   "source": [
    "# ETL and Data Cleanup Project\n",
    "\n",
    "This notebook performs an end-to-end ETL and data cleaning pipeline on a messy customer sales dataset.  \n",
    "It covers data loading, exploration, cleaning of missing or inconsistent data, handling malformed dates, and exporting the cleaned dataset to CSV and SQLite."
   ]
  },
  {
   "cell_type": "code",
   "execution_count": 3,
   "id": "7004cd21-42f4-4016-89b3-0fcc6a4535fc",
   "metadata": {},
   "outputs": [
    {
     "data": {
      "text/html": [
       "<div>\n",
       "<style scoped>\n",
       "    .dataframe tbody tr th:only-of-type {\n",
       "        vertical-align: middle;\n",
       "    }\n",
       "\n",
       "    .dataframe tbody tr th {\n",
       "        vertical-align: top;\n",
       "    }\n",
       "\n",
       "    .dataframe thead th {\n",
       "        text-align: right;\n",
       "    }\n",
       "</style>\n",
       "<table border=\"1\" class=\"dataframe\">\n",
       "  <thead>\n",
       "    <tr style=\"text-align: right;\">\n",
       "      <th></th>\n",
       "      <th>customer_id</th>\n",
       "      <th>customer_name</th>\n",
       "      <th>email</th>\n",
       "      <th>signup_date</th>\n",
       "      <th>last_purchase_date</th>\n",
       "      <th>purchase_amount</th>\n",
       "      <th>product_category</th>\n",
       "      <th>country</th>\n",
       "    </tr>\n",
       "  </thead>\n",
       "  <tbody>\n",
       "    <tr>\n",
       "      <th>0</th>\n",
       "      <td>145.0</td>\n",
       "      <td>Ryan Perez</td>\n",
       "      <td>ryan.perez@example.com</td>\n",
       "      <td>04-29-2025</td>\n",
       "      <td>21/03/2025</td>\n",
       "      <td>133.82</td>\n",
       "      <td>Fashion</td>\n",
       "      <td>france</td>\n",
       "    </tr>\n",
       "    <tr>\n",
       "      <th>1</th>\n",
       "      <td>328.0</td>\n",
       "      <td>Rachel Donovan</td>\n",
       "      <td>NaN</td>\n",
       "      <td>07/08/2024</td>\n",
       "      <td>09-11-2024</td>\n",
       "      <td>210.23</td>\n",
       "      <td>Electronics</td>\n",
       "      <td>France</td>\n",
       "    </tr>\n",
       "    <tr>\n",
       "      <th>2</th>\n",
       "      <td>358.0</td>\n",
       "      <td>CHRISTOPHER HARRIS</td>\n",
       "      <td>christopher.harris@example.com</td>\n",
       "      <td>13/06/2025</td>\n",
       "      <td>2024-08-24</td>\n",
       "      <td>288.82</td>\n",
       "      <td>Electronics</td>\n",
       "      <td>uk</td>\n",
       "    </tr>\n",
       "    <tr>\n",
       "      <th>3</th>\n",
       "      <td>435.0</td>\n",
       "      <td>Patricia Caldwell</td>\n",
       "      <td>patricia.caldwell@example.com</td>\n",
       "      <td>17/06/2025</td>\n",
       "      <td>15/02/2025</td>\n",
       "      <td>312.42</td>\n",
       "      <td>Fashion</td>\n",
       "      <td>UK</td>\n",
       "    </tr>\n",
       "    <tr>\n",
       "      <th>4</th>\n",
       "      <td>429.0</td>\n",
       "      <td>Lori Nelson</td>\n",
       "      <td>lorinelson@@example.com</td>\n",
       "      <td>2024-10-30</td>\n",
       "      <td>08-25-2024</td>\n",
       "      <td>159.17</td>\n",
       "      <td>Fashion</td>\n",
       "      <td>france</td>\n",
       "    </tr>\n",
       "  </tbody>\n",
       "</table>\n",
       "</div>"
      ],
      "text/plain": [
       "   customer_id       customer_name                           email  \\\n",
       "0        145.0          Ryan Perez          ryan.perez@example.com   \n",
       "1        328.0     Rachel Donovan                              NaN   \n",
       "2        358.0  CHRISTOPHER HARRIS  christopher.harris@example.com   \n",
       "3        435.0   Patricia Caldwell   patricia.caldwell@example.com   \n",
       "4        429.0         Lori Nelson         lorinelson@@example.com   \n",
       "\n",
       "  signup_date last_purchase_date  purchase_amount product_category country  \n",
       "0  04-29-2025         21/03/2025           133.82          Fashion  france  \n",
       "1  07/08/2024         09-11-2024           210.23      Electronics  France  \n",
       "2  13/06/2025         2024-08-24           288.82      Electronics      uk  \n",
       "3  17/06/2025         15/02/2025           312.42          Fashion      UK  \n",
       "4  2024-10-30         08-25-2024           159.17          Fashion  france  "
      ]
     },
     "execution_count": 3,
     "metadata": {},
     "output_type": "execute_result"
    }
   ],
   "source": [
    "import pandas as pd\n",
    "import sqlite3\n",
    "from datetime import datetime\n",
    "\n",
    "# Load the raw messy sales data CSV\n",
    "sales = pd.read_csv('messy_customer_sales.csv')\n",
    "\n",
    "# Display the first few rows\n",
    "sales.head()"
   ]
  },
  {
   "cell_type": "markdown",
   "id": "222509a4-8e5a-41e6-9f32-8a73618d8e84",
   "metadata": {},
   "source": [
    "## Initial Data Exploration\n",
    "\n",
    "We start by examining the structure of the dataset.  \n",
    "`info()` shows the number of non-null values per column and data types, which helps identify missing data and columns requiring type conversion.  \n",
    "`describe()` provides summary statistics for numerical columns."
   ]
  },
  {
   "cell_type": "code",
   "execution_count": 4,
   "id": "2fe524e3-9542-49ac-9d47-4af700a78ed9",
   "metadata": {},
   "outputs": [
    {
     "name": "stdout",
     "output_type": "stream",
     "text": [
      "<class 'pandas.core.frame.DataFrame'>\n",
      "RangeIndex: 1000 entries, 0 to 999\n",
      "Data columns (total 8 columns):\n",
      " #   Column              Non-Null Count  Dtype  \n",
      "---  ------              --------------  -----  \n",
      " 0   customer_id         981 non-null    float64\n",
      " 1   customer_name       1000 non-null   object \n",
      " 2   email               955 non-null    object \n",
      " 3   signup_date         1000 non-null   object \n",
      " 4   last_purchase_date  899 non-null    object \n",
      " 5   purchase_amount     1000 non-null   float64\n",
      " 6   product_category    1000 non-null   object \n",
      " 7   country             949 non-null    object \n",
      "dtypes: float64(2), object(6)\n",
      "memory usage: 62.6+ KB\n",
      "Product categories:\n",
      " product_category\n",
      "Home           290\n",
      "Fashion        286\n",
      "Electronics    278\n",
      "electronics     34\n",
      "home            27\n",
      "fashion         27\n",
      "Hom             20\n",
      "Fashio          20\n",
      "Electronic      15\n",
      "fashio           2\n",
      "hom              1\n",
      "Name: count, dtype: int64\n",
      "Countries:\n",
      " country\n",
      "uk                114\n",
      "UK                114\n",
      "United States     114\n",
      "France            105\n",
      "france            103\n",
      "usa               102\n",
      "United Kingdom    101\n",
      "FRA               100\n",
      "USA                96\n",
      "Name: count, dtype: int64\n"
     ]
    }
   ],
   "source": [
    "# Basic overview of data types and completeness\n",
    "sales.info()\n",
    "\n",
    "# Summary statistics for numeric columns\n",
    "sales.describe()\n",
    "\n",
    "# Show counts of unique product categories and countries to check consistency\n",
    "print(\"Product categories:\\n\", sales['product_category'].value_counts())\n",
    "print(\"Countries:\\n\", sales['country'].value_counts())"
   ]
  },
  {
   "cell_type": "markdown",
   "id": "bb55c60b-a036-4903-bc56-d8c6684509a4",
   "metadata": {},
   "source": [
    "## Cleaning Customer IDs\n",
    "\n",
    "The `customer_id` column contains missing and malformed entries.  \n",
    "We convert it to string type to identify missing values, then assign new unique IDs to missing entries, and finally convert back to a nullable integer type."
   ]
  },
  {
   "cell_type": "code",
   "execution_count": 6,
   "id": "379dd474-6dd1-4431-8ee0-8c46d9b10f1d",
   "metadata": {},
   "outputs": [
    {
     "name": "stdout",
     "output_type": "stream",
     "text": [
      "Cleaned customer_id dtype: Int64\n"
     ]
    }
   ],
   "source": [
    "# Convert to string for cleaning\n",
    "sales['customer_id'] = sales['customer_id'].astype(str)\n",
    "\n",
    "# Identify missing IDs (strings 'nan', empty or whitespace)\n",
    "missing_mask = sales['customer_id'].isin(['nan', '', ' '])\n",
    "\n",
    "# Extract existing valid numeric IDs\n",
    "existing_ids = pd.to_numeric(sales.loc[~missing_mask, 'customer_id'], errors='coerce').dropna().astype(int)\n",
    "\n",
    "max_id = existing_ids.max() if not existing_ids.empty else 0\n",
    "\n",
    "# Assign new zero-padded IDs for missing entries\n",
    "new_ids = range(max_id + 1, max_id + 1 + missing_mask.sum())\n",
    "sales.loc[missing_mask, 'customer_id'] = [f'{i:03d}' for i in new_ids]\n",
    "\n",
    "# Ensure consistent zero-padding\n",
    "sales['customer_id'] = sales['customer_id'].astype(str).str.zfill(3)\n",
    "\n",
    "# Convert to nullable integer type\n",
    "sales['customer_id'] = pd.to_numeric(sales['customer_id'], errors='coerce').astype('Int64')\n",
    "\n",
    "print(\"Cleaned customer_id dtype:\", sales['customer_id'].dtype)"
   ]
  },
  {
   "cell_type": "markdown",
   "id": "ee0f4276-c551-40bc-9e91-1dd944fe6e88",
   "metadata": {},
   "source": [
    "## Cleaning Product Categories\n",
    "\n",
    "The `product_category` column has inconsistent spelling and case.  \n",
    "We standardize by converting to lowercase and fixing common typos."
   ]
  },
  {
   "cell_type": "markdown",
   "id": "799cf62f-2441-4eda-8c52-cec5461cdc1e",
   "metadata": {},
   "source": [
    "sales['product_category'] = sales['product_category'].str.lower().replace({\n",
    "    'hom': 'home',\n",
    "    'electronic': 'electronics',\n",
    "    'fashio': 'fashion'\n",
    "})\n",
    "\n",
    "print(sales['product_category'].value_counts())"
   ]
  },
  {
   "cell_type": "markdown",
   "id": "400ad821-3255-4dc2-b42f-7178149ca934",
   "metadata": {},
   "source": [
    "## Cleaning Country Names\n",
    "\n",
    "Similarly, country names vary in format.  \n",
    "We normalize to lowercase and standardize common names."
   ]
  },
  {
   "cell_type": "code",
   "execution_count": 8,
   "id": "0fbb3966-b73e-48bf-a509-86a558d0481d",
   "metadata": {},
   "outputs": [
    {
     "name": "stdout",
     "output_type": "stream",
     "text": [
      "country\n",
      "uk        329\n",
      "usa       312\n",
      "france    308\n",
      "Name: count, dtype: int64\n"
     ]
    }
   ],
   "source": [
    "sales['country'] = sales['country'].str.lower().replace({\n",
    "    'united states': 'usa',\n",
    "    'united kingdom': 'uk',\n",
    "    'fra': 'france'\n",
    "})\n",
    "\n",
    "print(sales['country'].value_counts())"
   ]
  },
  {
   "cell_type": "markdown",
   "id": "2e5b8502-347d-4aa7-9989-c7402f392695",
   "metadata": {},
   "source": [
    "## Cleaning Emails\n",
    "\n",
    "Emails often contain extra spaces or typos like double '@'.  \n",
    "We strip whitespace, convert to lowercase, and fix known issues."
   ]
  },
  {
   "cell_type": "code",
   "execution_count": 9,
   "id": "eb68b44f-4e63-44bc-a998-0c2bd8fb51e0",
   "metadata": {},
   "outputs": [
    {
     "name": "stdout",
     "output_type": "stream",
     "text": [
      "Missing emails: 45\n",
      "Top email addresses:\n",
      " email\n",
      "andrew.johnson@example.com     2\n",
      "david.clark@example.com        2\n",
      "jeffrey.clark@example.com      2\n",
      "joseph.santos@example.com      2\n",
      "mark.adams@example.com         2\n",
      "chase.smith@example.com        2\n",
      "rebecca.miller@example.com     2\n",
      "samantha.moore@example.com     2\n",
      "andrea.hart@example.com        2\n",
      "pamela.bell@example.com        1\n",
      "barbara.flores@example.com     1\n",
      "edward.herman@example.com      1\n",
      "deanna.ochoa@example.com       1\n",
      "kelly.williams@example.com     1\n",
      "thomas.martinez@example.com    1\n",
      "mark.golden@example.com        1\n",
      "joseph.rivera@example.com      1\n",
      "peter.hall@example.com         1\n",
      "william.smith@example.com      1\n",
      "brenda.white@example.com       1\n",
      "Name: count, dtype: int64\n"
     ]
    }
   ],
   "source": [
    "sales['email'] = sales['email'].str.strip().str.lower().str.replace('@@', '@', regex=False)\n",
    "\n",
    "print(\"Missing emails:\", sales['email'].isna().sum())\n",
    "print(\"Top email addresses:\\n\", sales['email'].value_counts().head(20))"
   ]
  },
  {
   "cell_type": "markdown",
   "id": "34ea399b-0d8d-4d5d-bef8-1237e6c7206c",
   "metadata": {},
   "source": [
    "## Handling Purchase Amounts\n",
    "\n",
    "Negative purchase amounts are ambiguous (could be returns or errors).  \n",
    "To maintain data integrity, we remove rows with negative purchase amounts."
   ]
  },
  {
   "cell_type": "code",
   "execution_count": 13,
   "id": "22741df5-b50d-4163-91b0-409e11f9f519",
   "metadata": {},
   "outputs": [
    {
     "name": "stdout",
     "output_type": "stream",
     "text": [
      "Number of negative purchase amounts: 0\n"
     ]
    }
   ],
   "source": [
    "print(f\"Number of negative purchase amounts: {(sales['purchase_amount'] < 0).sum()}\")\n",
    "\n",
    "sales = sales[sales['purchase_amount'] >= 0]"
   ]
  },
  {
   "cell_type": "markdown",
   "id": "6d29050d-86bf-4738-afa4-665c6e4ab2f8",
   "metadata": {},
   "source": [
    "## Parsing and Standardizing Dates\n",
    "\n",
    "The `signup_date` and `last_purchase_date` columns contain dates in mixed formats.  \n",
    "We define common date formats and apply a parser that tries each format until one succeeds, converting to Python date objects without time components."
   ]
  },
  {
   "cell_type": "code",
   "execution_count": 14,
   "id": "c70c0c8a-ce1e-4df6-a921-4744a83cd5f9",
   "metadata": {},
   "outputs": [
    {
     "name": "stdout",
     "output_type": "stream",
     "text": [
      "<class 'pandas.core.frame.DataFrame'>\n",
      "Index: 971 entries, 0 to 999\n",
      "Data columns (total 2 columns):\n",
      " #   Column              Non-Null Count  Dtype \n",
      "---  ------              --------------  ----- \n",
      " 0   signup_date         650 non-null    object\n",
      " 1   last_purchase_date  592 non-null    object\n",
      "dtypes: object(2)\n",
      "memory usage: 22.8+ KB\n"
     ]
    }
   ],
   "source": [
    "from datetime import datetime\n",
    "import pandas as pd\n",
    "\n",
    "common_formats = [\n",
    "    '%Y-%m-%d',     # 2023-12-31\n",
    "    '%d-%m-%Y',     # 31-12-2023\n",
    "    '%m/%d/%Y',     # 12/31/2023\n",
    "    '%d.%m.%Y',     # 31.12.2023\n",
    "    '%b %d, %Y',    # Dec 31, 2023\n",
    "    '%B %d, %Y',    # December 31, 2023\n",
    "    '%Y/%m/%d',     # 2023/12/31\n",
    "]\n",
    "\n",
    "def try_parse_date(date_str):\n",
    "    if pd.isna(date_str):\n",
    "        return pd.NaT\n",
    "    for fmt in common_formats:\n",
    "        try:\n",
    "            return datetime.strptime(date_str.strip(), fmt)\n",
    "        except (ValueError, TypeError):\n",
    "            continue\n",
    "    return pd.NaT\n",
    "\n",
    "for col in ['signup_date', 'last_purchase_date']:\n",
    "    sales[col] = sales[col].apply(try_parse_date)  # parse with custom function\n",
    "    sales[col] = pd.to_datetime(sales[col])        # convert to pandas datetime64\n",
    "    sales[col] = sales[col].dt.normalize()         # zero out time (keep datetime dtype)"
   ]
  },
  {
   "cell_type": "markdown",
   "id": "cdc3b9b8-f06c-492e-80ed-eaa45e7f4357",
   "metadata": {},
   "source": [
    "## Exporting the Cleaned Data\n",
    "\n",
    "We export the cleaned DataFrame both as a CSV backup and into a SQLite database for further analysis."
   ]
  },
  {
   "cell_type": "code",
   "execution_count": 15,
   "id": "60557dd7-a618-4276-b731-a4bd74247fae",
   "metadata": {},
   "outputs": [],
   "source": [
    "# Export to CSV\n",
    "sales.to_csv('cleaned_sales_backup.csv', index=False)\n",
    "\n",
    "# Export to SQLite database\n",
    "conn = sqlite3.connect('cleaned_sales.db')\n",
    "sales.to_sql('sales_data', conn, if_exists='replace', index=False)\n",
    "conn.close()"
   ]
  },
  {
   "cell_type": "markdown",
   "id": "081eb4dd-a0dd-4bac-aaa0-d02682c00173",
   "metadata": {},
   "source": [
    "## Verification of Export\n",
    "\n",
    "To verify the SQLite export, we read back a few rows from the database."
   ]
  },
  {
   "cell_type": "code",
   "execution_count": 16,
   "id": "94688b35-caf8-4126-8cb6-9e188c47aea6",
   "metadata": {},
   "outputs": [
    {
     "name": "stdout",
     "output_type": "stream",
     "text": [
      "   customer_id       customer_name                           email  \\\n",
      "0          145          Ryan Perez          ryan.perez@example.com   \n",
      "1          328     Rachel Donovan                             None   \n",
      "2          358  CHRISTOPHER HARRIS  christopher.harris@example.com   \n",
      "3          435   Patricia Caldwell   patricia.caldwell@example.com   \n",
      "4          429         Lori Nelson          lorinelson@example.com   \n",
      "\n",
      "  signup_date last_purchase_date  purchase_amount product_category country  \n",
      "0        None               None           133.82          fashion  france  \n",
      "1  2024-07-08         2024-11-09           210.23      electronics  france  \n",
      "2        None         2024-08-24           288.82      electronics      uk  \n",
      "3        None               None           312.42          fashion      uk  \n",
      "4  2024-10-30               None           159.17          fashion  france  \n"
     ]
    }
   ],
   "source": [
    "conn = sqlite3.connect('cleaned_sales.db')\n",
    "print(pd.read_sql(\"SELECT * FROM sales_data LIMIT 5;\", conn))\n",
    "conn.close()"
   ]
  },
  {
   "cell_type": "code",
   "execution_count": 17,
   "id": "6d6b86a1-c9af-4d94-9709-ec358bb228c5",
   "metadata": {},
   "outputs": [
    {
     "data": {
      "text/plain": [
       "customer_id             Int64\n",
       "customer_name          object\n",
       "email                  object\n",
       "signup_date            object\n",
       "last_purchase_date     object\n",
       "purchase_amount       float64\n",
       "product_category       object\n",
       "country                object\n",
       "dtype: object"
      ]
     },
     "execution_count": 17,
     "metadata": {},
     "output_type": "execute_result"
    }
   ],
   "source": [
    "sales.dtypes"
   ]
  },
  {
   "cell_type": "code",
   "execution_count": null,
   "id": "23c7da58-efdf-4664-b3d6-b4afd7822ca9",
   "metadata": {},
   "outputs": [],
   "source": []
  }
 ],
 "metadata": {
  "kernelspec": {
   "display_name": "Python [conda env:base] *",
   "language": "python",
   "name": "conda-base-py"
  },
  "language_info": {
   "codemirror_mode": {
    "name": "ipython",
    "version": 3
   },
   "file_extension": ".py",
   "mimetype": "text/x-python",
   "name": "python",
   "nbconvert_exporter": "python",
   "pygments_lexer": "ipython3",
   "version": "3.12.7"
  }
 },
 "nbformat": 4,
 "nbformat_minor": 5
}
